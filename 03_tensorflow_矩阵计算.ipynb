{
 "cells": [
  {
   "cell_type": "code",
   "execution_count": 10,
   "metadata": {},
   "outputs": [
    {
     "name": "stdout",
     "output_type": "stream",
     "text": [
      "8.0\n",
      "8.0\n",
      "end1\n"
     ]
    }
   ],
   "source": [
    "# placeholder\n",
    "\n",
    "import tensorflow as tf\n",
    "data1 = tf.placeholder(tf.float32)\n",
    "data2 = tf.placeholder(tf.float32)\n",
    "dataAdd = tf.add(data1, data2)\n",
    "\n",
    "with tf.Session() as sess:\n",
    "    print(sess.run(dataAdd, feed_dict={data1: 6, data2:2}))\n",
    "    print(sess.run(dataAdd, feed_dict={data1: 6, data2:2}))\n",
    "    # 1 dataAdd2 data(feed_dict={data1:v1, data2: v2})\n",
    "\n",
    "print('end1')"
   ]
  },
  {
   "cell_type": "code",
   "execution_count": 12,
   "metadata": {},
   "outputs": [
    {
     "name": "stdout",
     "output_type": "stream",
     "text": [
      "(2, 1)\n",
      "[[1 2]\n",
      " [3 4]\n",
      " [5 6]]\n",
      "[3 4]\n",
      "[2 4 6]\n",
      "[[24]]\n"
     ]
    }
   ],
   "source": [
    "# 矩阵\n",
    "# 一行两列 [[6， 6]]。外层括号是行，里面的括号是列。[[6, 3], [3, 6]] 这是两行两列的\n",
    "\n",
    "import tensorflow as tf\n",
    "\n",
    "data1 = tf.constant([[6, 6]])\n",
    "data2 = tf.constant([\n",
    "    [2],\n",
    "    [2]\n",
    "])\n",
    "data3 = tf.constant([\n",
    "    [3, 3]\n",
    "])\n",
    "data4 = tf.constant([\n",
    "    [1,2],\n",
    "    [3,4],\n",
    "    [5,6]\n",
    "])\n",
    "\n",
    "print(data2.shape)  # 矩阵的维度\n",
    "\n",
    "matMul = tf.matmul(data1, data2)  # 矩阵乘法\n",
    "with tf.Session() as sess:\n",
    "    print(sess.run(data4))\n",
    "    print(sess.run(data4[1]))  # 打印某一行\n",
    "    print(sess.run(data4[:,1]))  # 打印某一列\n",
    "    print(sess.run(matMul))  #\n",
    "    \n",
    "    \n",
    "    # 怎么打印代数余子式矩阵呢？"
   ]
  },
  {
   "cell_type": "code",
   "execution_count": null,
   "metadata": {},
   "outputs": [],
   "source": []
  },
  {
   "cell_type": "code",
   "execution_count": null,
   "metadata": {},
   "outputs": [],
   "source": []
  }
 ],
 "metadata": {
  "kernelspec": {
   "display_name": "Python 3",
   "language": "python",
   "name": "python3"
  },
  "language_info": {
   "codemirror_mode": {
    "name": "ipython",
    "version": 3
   },
   "file_extension": ".py",
   "mimetype": "text/x-python",
   "name": "python",
   "nbconvert_exporter": "python",
   "pygments_lexer": "ipython3",
   "version": "3.7.3"
  }
 },
 "nbformat": 4,
 "nbformat_minor": 2
}
