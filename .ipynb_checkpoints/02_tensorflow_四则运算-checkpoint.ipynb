{
 "cells": [
  {
   "cell_type": "code",
   "execution_count": 12,
   "metadata": {},
   "outputs": [
    {
     "name": "stdout",
     "output_type": "stream",
     "text": [
      "8\n",
      "12\n",
      "4\n",
      "3.0\n",
      "end1\n",
      "\n",
      "\n",
      "\n",
      "None\n",
      "8\n",
      "12\n",
      "4\n",
      "3.0\n",
      "8\n",
      "end2\n"
     ]
    }
   ],
   "source": [
    "import tensorflow as tf\n",
    "\n",
    "# 常量的四则运算\n",
    "data1 = tf.constant(6)\n",
    "data2 = tf.constant(2)\n",
    "\n",
    "dataAdd = tf.add(data1, data2)\n",
    "dataMul = tf.multiply(data1, data2)\n",
    "dataSub = tf.subtract(data1, data2)\n",
    "dataDiv = tf.divide(data1, data2)\n",
    "\n",
    "with tf.Session() as sess:\n",
    "    print(sess.run(dataAdd))\n",
    "    print(sess.run(dataMul))\n",
    "    print(sess.run(dataSub))\n",
    "    print(sess.run(dataDiv))\n",
    "\n",
    "print('end1\\n\\n\\n')\n",
    "\n",
    "# 常量和变量的四则运算\n",
    "data1 = tf.constant(6)\n",
    "data2 = tf.Variable(2)\n",
    "\n",
    "dataAdd = tf.add(data1, data2)\n",
    "dataMul = tf.multiply(data1, data2)\n",
    "dataCopy = tf.assign(data2, dataAdd)\n",
    "dataSub = tf.subtract(data1, data2)\n",
    "dataDiv = tf.divide(data1, data2)\n",
    "\n",
    "init = tf.global_variables_initializer()\n",
    "\n",
    "with tf.Session() as sess:\n",
    "    print(sess.run(init))\n",
    "    print(sess.run(dataAdd))\n",
    "    print(sess.run(dataMul))\n",
    "    print(sess.run(dataSub))\n",
    "    print(sess.run(dataDiv))\n",
    "    print(sess.run(dataCopy), dataCopy.eval())\n",
    "print('end2')\n",
    "    "
   ]
  },
  {
   "cell_type": "code",
   "execution_count": null,
   "metadata": {},
   "outputs": [],
   "source": []
  }
 ],
 "metadata": {
  "kernelspec": {
   "display_name": "Python 3",
   "language": "python",
   "name": "python3"
  },
  "language_info": {
   "codemirror_mode": {
    "name": "ipython",
    "version": 3
   },
   "file_extension": ".py",
   "mimetype": "text/x-python",
   "name": "python",
   "nbconvert_exporter": "python",
   "pygments_lexer": "ipython3",
   "version": "3.7.3"
  }
 },
 "nbformat": 4,
 "nbformat_minor": 2
}
