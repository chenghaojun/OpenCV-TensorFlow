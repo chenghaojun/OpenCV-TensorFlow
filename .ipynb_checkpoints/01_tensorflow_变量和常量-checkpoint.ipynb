{
 "cells": [
  {
   "cell_type": "code",
   "execution_count": 2,
   "metadata": {},
   "outputs": [
    {
     "name": "stdout",
     "output_type": "stream",
     "text": [
      "b'hello tensorflow'\n",
      "Tensor(\"Const_3:0\", shape=(), dtype=float32)\n",
      "<tf.Variable 'var_1:0' shape=() dtype=int32_ref>\n",
      "2.5\n",
      "10\n"
     ]
    }
   ],
   "source": [
    "import tensorflow as tf\n",
    "hello = tf.constant('hello tensorflow')\n",
    "with tf.Session() as sess:\n",
    "    print(sess.run(hello))\n",
    "    \n",
    "data1 = tf.constant(2.5)\n",
    "data2 = tf.Variable(10, name='var')  # 需要进行赋值，不然会出现未初始化之类的错误\n",
    "\n",
    "init = tf.global_variables_initializer()  # 完成变量和常量的初始化\n",
    "\n",
    "print(data1)\n",
    "print(data2)\n",
    "\n",
    "sess = tf.Session()\n",
    "sess.run(init)\n",
    "print(sess.run(data1))\n",
    "print(sess.run(data2))\n",
    "\n",
    "sess.close()\n",
    "\n",
    "# 本质 tf = tensor（数据） + 计算图\n",
    "# tensor 数据\n",
    "# op\n",
    "# graphs 数据操作\n",
    "# session 计算图\n",
    "\n",
    "# 所有的变量必须初始化才能操作"
   ]
  },
  {
   "cell_type": "code",
   "execution_count": null,
   "metadata": {},
   "outputs": [],
   "source": []
  }
 ],
 "metadata": {
  "kernelspec": {
   "display_name": "Python 3",
   "language": "python",
   "name": "python3"
  },
  "language_info": {
   "codemirror_mode": {
    "name": "ipython",
    "version": 3
   },
   "file_extension": ".py",
   "mimetype": "text/x-python",
   "name": "python",
   "nbconvert_exporter": "python",
   "pygments_lexer": "ipython3",
   "version": "3.7.3"
  }
 },
 "nbformat": 4,
 "nbformat_minor": 2
}
